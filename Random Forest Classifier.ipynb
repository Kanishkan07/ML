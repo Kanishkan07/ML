{
 "cells": [
  {
   "cell_type": "code",
   "execution_count": 1,
   "id": "c4016a4f",
   "metadata": {},
   "outputs": [],
   "source": [
    "import pandas as pd\n",
    "import numpy as np \n",
    "import matplotlib.pyplot as plt"
   ]
  },
  {
   "cell_type": "code",
   "execution_count": 2,
   "id": "b7f6b774",
   "metadata": {},
   "outputs": [],
   "source": [
    "dataset = pd.read_csv(\"supply_chain_train.csv\")"
   ]
  },
  {
   "cell_type": "code",
   "execution_count": 3,
   "id": "f53d2c61",
   "metadata": {},
   "outputs": [
    {
     "name": "stdout",
     "output_type": "stream",
     "text": [
      "<class 'pandas.core.frame.DataFrame'>\n",
      "RangeIndex: 8101 entries, 0 to 8100\n",
      "Data columns (total 22 columns):\n",
      " #   Column                    Non-Null Count  Dtype  \n",
      "---  ------                    --------------  -----  \n",
      " 0   train_idx                 8101 non-null   int64  \n",
      " 1   CLIENTNUM                 8101 non-null   int64  \n",
      " 2   Customer_Age              8101 non-null   int64  \n",
      " 3   Gender                    8101 non-null   object \n",
      " 4   Dependent_count           8101 non-null   int64  \n",
      " 5   Education_Level           8101 non-null   object \n",
      " 6   Marital_Status            8101 non-null   object \n",
      " 7   Income_Category           8101 non-null   object \n",
      " 8   Card_Category             8101 non-null   object \n",
      " 9   Months_on_book            8101 non-null   int64  \n",
      " 10  Total_Relationship_Count  8101 non-null   int64  \n",
      " 11  Months_Inactive_12_mon    8101 non-null   int64  \n",
      " 12  Contacts_Count_12_mon     8101 non-null   int64  \n",
      " 13  Credit_Limit              8101 non-null   float64\n",
      " 14  Total_Revolving_Bal       8101 non-null   int64  \n",
      " 15  Avg_Open_To_Buy           8101 non-null   float64\n",
      " 16  Total_Amt_Chng_Q4_Q1      8101 non-null   float64\n",
      " 17  Total_Trans_Amt           8101 non-null   int64  \n",
      " 18  Total_Trans_Ct            8101 non-null   int64  \n",
      " 19  Total_Ct_Chng_Q4_Q1       8101 non-null   float64\n",
      " 20  Avg_Utilization_Ratio     8101 non-null   float64\n",
      " 21  Attrition_Flag            8101 non-null   int64  \n",
      "dtypes: float64(5), int64(12), object(5)\n",
      "memory usage: 1.4+ MB\n"
     ]
    }
   ],
   "source": [
    "dataset.info()"
   ]
  },
  {
   "cell_type": "code",
   "execution_count": 9,
   "id": "38aa323c",
   "metadata": {},
   "outputs": [],
   "source": [
    "x = dataset.iloc[:,:-1].values\n",
    "y = dataset.iloc[:,:-1].values"
   ]
  },
  {
   "cell_type": "code",
   "execution_count": 10,
   "id": "7dfb7ef7",
   "metadata": {},
   "outputs": [
    {
     "data": {
      "text/plain": [
       "array([[0, 713071383, 54, ..., 99, 0.678, 0.464],\n",
       "       [1, 714246333, 58, ..., 39, 0.393, 0.334],\n",
       "       [2, 718206783, 45, ..., 36, 1.25, 0.103],\n",
       "       ...,\n",
       "       [8098, 714140133, 42, ..., 74, 1.0, 0.669],\n",
       "       [8099, 720244983, 40, ..., 42, 0.312, 0.479],\n",
       "       [8100, 827123883, 53, ..., 92, 0.614, 0.0]], dtype=object)"
      ]
     },
     "execution_count": 10,
     "metadata": {},
     "output_type": "execute_result"
    }
   ],
   "source": [
    "x"
   ]
  },
  {
   "cell_type": "code",
   "execution_count": 11,
   "id": "e0f6f62e",
   "metadata": {},
   "outputs": [
    {
     "data": {
      "text/plain": [
       "array([[0, 713071383, 54, ..., 99, 0.678, 0.464],\n",
       "       [1, 714246333, 58, ..., 39, 0.393, 0.334],\n",
       "       [2, 718206783, 45, ..., 36, 1.25, 0.103],\n",
       "       ...,\n",
       "       [8098, 714140133, 42, ..., 74, 1.0, 0.669],\n",
       "       [8099, 720244983, 40, ..., 42, 0.312, 0.479],\n",
       "       [8100, 827123883, 53, ..., 92, 0.614, 0.0]], dtype=object)"
      ]
     },
     "execution_count": 11,
     "metadata": {},
     "output_type": "execute_result"
    }
   ],
   "source": [
    "y"
   ]
  },
  {
   "cell_type": "code",
   "execution_count": 29,
   "id": "85ff3f8d",
   "metadata": {},
   "outputs": [],
   "source": [
    "from sklearn.model_selection import train_test_split\n",
    "from sklearn.ensemble import RandomForestClassifier"
   ]
  },
  {
   "cell_type": "code",
   "execution_count": 54,
   "id": "a453ae0b",
   "metadata": {},
   "outputs": [],
   "source": [
    "from sklearn.metrics import accuracy_score , classification_report"
   ]
  },
  {
   "cell_type": "code",
   "execution_count": 43,
   "id": "1790d558",
   "metadata": {},
   "outputs": [
    {
     "data": {
      "text/html": [
       "<div>\n",
       "<style scoped>\n",
       "    .dataframe tbody tr th:only-of-type {\n",
       "        vertical-align: middle;\n",
       "    }\n",
       "\n",
       "    .dataframe tbody tr th {\n",
       "        vertical-align: top;\n",
       "    }\n",
       "\n",
       "    .dataframe thead th {\n",
       "        text-align: right;\n",
       "    }\n",
       "</style>\n",
       "<table border=\"1\" class=\"dataframe\">\n",
       "  <thead>\n",
       "    <tr style=\"text-align: right;\">\n",
       "      <th></th>\n",
       "      <th>train_idx</th>\n",
       "      <th>CLIENTNUM</th>\n",
       "      <th>Customer_Age</th>\n",
       "      <th>Gender</th>\n",
       "      <th>Dependent_count</th>\n",
       "      <th>Education_Level</th>\n",
       "      <th>Marital_Status</th>\n",
       "      <th>Income_Category</th>\n",
       "      <th>Card_Category</th>\n",
       "      <th>Months_on_book</th>\n",
       "      <th>...</th>\n",
       "      <th>Contacts_Count_12_mon</th>\n",
       "      <th>Credit_Limit</th>\n",
       "      <th>Total_Revolving_Bal</th>\n",
       "      <th>Avg_Open_To_Buy</th>\n",
       "      <th>Total_Amt_Chng_Q4_Q1</th>\n",
       "      <th>Total_Trans_Amt</th>\n",
       "      <th>Total_Trans_Ct</th>\n",
       "      <th>Total_Ct_Chng_Q4_Q1</th>\n",
       "      <th>Avg_Utilization_Ratio</th>\n",
       "      <th>Attrition_Flag</th>\n",
       "    </tr>\n",
       "  </thead>\n",
       "  <tbody>\n",
       "    <tr>\n",
       "      <th>0</th>\n",
       "      <td>0</td>\n",
       "      <td>713071383</td>\n",
       "      <td>54</td>\n",
       "      <td>F</td>\n",
       "      <td>1</td>\n",
       "      <td>Unknown</td>\n",
       "      <td>Single</td>\n",
       "      <td>Unknown</td>\n",
       "      <td>Blue</td>\n",
       "      <td>36</td>\n",
       "      <td>...</td>\n",
       "      <td>3</td>\n",
       "      <td>3723.0</td>\n",
       "      <td>1728</td>\n",
       "      <td>1995.0</td>\n",
       "      <td>0.595</td>\n",
       "      <td>8554</td>\n",
       "      <td>99</td>\n",
       "      <td>0.678</td>\n",
       "      <td>0.464</td>\n",
       "      <td>1</td>\n",
       "    </tr>\n",
       "    <tr>\n",
       "      <th>1</th>\n",
       "      <td>1</td>\n",
       "      <td>714246333</td>\n",
       "      <td>58</td>\n",
       "      <td>F</td>\n",
       "      <td>4</td>\n",
       "      <td>High School</td>\n",
       "      <td>Married</td>\n",
       "      <td>Unknown</td>\n",
       "      <td>Blue</td>\n",
       "      <td>48</td>\n",
       "      <td>...</td>\n",
       "      <td>3</td>\n",
       "      <td>5396.0</td>\n",
       "      <td>1803</td>\n",
       "      <td>3593.0</td>\n",
       "      <td>0.493</td>\n",
       "      <td>2107</td>\n",
       "      <td>39</td>\n",
       "      <td>0.393</td>\n",
       "      <td>0.334</td>\n",
       "      <td>0</td>\n",
       "    </tr>\n",
       "    <tr>\n",
       "      <th>2</th>\n",
       "      <td>2</td>\n",
       "      <td>718206783</td>\n",
       "      <td>45</td>\n",
       "      <td>F</td>\n",
       "      <td>4</td>\n",
       "      <td>Unknown</td>\n",
       "      <td>Single</td>\n",
       "      <td>Less than $40K</td>\n",
       "      <td>Gold</td>\n",
       "      <td>36</td>\n",
       "      <td>...</td>\n",
       "      <td>3</td>\n",
       "      <td>15987.0</td>\n",
       "      <td>1648</td>\n",
       "      <td>14339.0</td>\n",
       "      <td>0.732</td>\n",
       "      <td>1436</td>\n",
       "      <td>36</td>\n",
       "      <td>1.250</td>\n",
       "      <td>0.103</td>\n",
       "      <td>1</td>\n",
       "    </tr>\n",
       "    <tr>\n",
       "      <th>3</th>\n",
       "      <td>3</td>\n",
       "      <td>721096983</td>\n",
       "      <td>34</td>\n",
       "      <td>F</td>\n",
       "      <td>2</td>\n",
       "      <td>Graduate</td>\n",
       "      <td>Single</td>\n",
       "      <td>Less than $40K</td>\n",
       "      <td>Blue</td>\n",
       "      <td>36</td>\n",
       "      <td>...</td>\n",
       "      <td>4</td>\n",
       "      <td>3625.0</td>\n",
       "      <td>2517</td>\n",
       "      <td>1108.0</td>\n",
       "      <td>1.158</td>\n",
       "      <td>2616</td>\n",
       "      <td>46</td>\n",
       "      <td>1.300</td>\n",
       "      <td>0.694</td>\n",
       "      <td>1</td>\n",
       "    </tr>\n",
       "    <tr>\n",
       "      <th>4</th>\n",
       "      <td>4</td>\n",
       "      <td>720028683</td>\n",
       "      <td>49</td>\n",
       "      <td>F</td>\n",
       "      <td>2</td>\n",
       "      <td>High School</td>\n",
       "      <td>Married</td>\n",
       "      <td>$40K - $60K</td>\n",
       "      <td>Blue</td>\n",
       "      <td>39</td>\n",
       "      <td>...</td>\n",
       "      <td>4</td>\n",
       "      <td>2720.0</td>\n",
       "      <td>1926</td>\n",
       "      <td>794.0</td>\n",
       "      <td>0.602</td>\n",
       "      <td>3806</td>\n",
       "      <td>61</td>\n",
       "      <td>0.794</td>\n",
       "      <td>0.708</td>\n",
       "      <td>1</td>\n",
       "    </tr>\n",
       "    <tr>\n",
       "      <th>...</th>\n",
       "      <td>...</td>\n",
       "      <td>...</td>\n",
       "      <td>...</td>\n",
       "      <td>...</td>\n",
       "      <td>...</td>\n",
       "      <td>...</td>\n",
       "      <td>...</td>\n",
       "      <td>...</td>\n",
       "      <td>...</td>\n",
       "      <td>...</td>\n",
       "      <td>...</td>\n",
       "      <td>...</td>\n",
       "      <td>...</td>\n",
       "      <td>...</td>\n",
       "      <td>...</td>\n",
       "      <td>...</td>\n",
       "      <td>...</td>\n",
       "      <td>...</td>\n",
       "      <td>...</td>\n",
       "      <td>...</td>\n",
       "      <td>...</td>\n",
       "    </tr>\n",
       "    <tr>\n",
       "      <th>8096</th>\n",
       "      <td>8096</td>\n",
       "      <td>769053033</td>\n",
       "      <td>44</td>\n",
       "      <td>F</td>\n",
       "      <td>1</td>\n",
       "      <td>Graduate</td>\n",
       "      <td>Single</td>\n",
       "      <td>$40K - $60K</td>\n",
       "      <td>Blue</td>\n",
       "      <td>38</td>\n",
       "      <td>...</td>\n",
       "      <td>5</td>\n",
       "      <td>4142.0</td>\n",
       "      <td>2517</td>\n",
       "      <td>1625.0</td>\n",
       "      <td>0.809</td>\n",
       "      <td>2104</td>\n",
       "      <td>44</td>\n",
       "      <td>0.833</td>\n",
       "      <td>0.608</td>\n",
       "      <td>0</td>\n",
       "    </tr>\n",
       "    <tr>\n",
       "      <th>8097</th>\n",
       "      <td>8097</td>\n",
       "      <td>714406158</td>\n",
       "      <td>53</td>\n",
       "      <td>F</td>\n",
       "      <td>3</td>\n",
       "      <td>High School</td>\n",
       "      <td>Divorced</td>\n",
       "      <td>Unknown</td>\n",
       "      <td>Blue</td>\n",
       "      <td>36</td>\n",
       "      <td>...</td>\n",
       "      <td>6</td>\n",
       "      <td>7939.0</td>\n",
       "      <td>0</td>\n",
       "      <td>7939.0</td>\n",
       "      <td>0.551</td>\n",
       "      <td>2269</td>\n",
       "      <td>42</td>\n",
       "      <td>0.312</td>\n",
       "      <td>0.000</td>\n",
       "      <td>0</td>\n",
       "    </tr>\n",
       "    <tr>\n",
       "      <th>8098</th>\n",
       "      <td>8098</td>\n",
       "      <td>714140133</td>\n",
       "      <td>42</td>\n",
       "      <td>F</td>\n",
       "      <td>4</td>\n",
       "      <td>Graduate</td>\n",
       "      <td>Unknown</td>\n",
       "      <td>Less than $40K</td>\n",
       "      <td>Blue</td>\n",
       "      <td>32</td>\n",
       "      <td>...</td>\n",
       "      <td>2</td>\n",
       "      <td>2314.0</td>\n",
       "      <td>1547</td>\n",
       "      <td>767.0</td>\n",
       "      <td>0.804</td>\n",
       "      <td>4678</td>\n",
       "      <td>74</td>\n",
       "      <td>1.000</td>\n",
       "      <td>0.669</td>\n",
       "      <td>1</td>\n",
       "    </tr>\n",
       "    <tr>\n",
       "      <th>8099</th>\n",
       "      <td>8099</td>\n",
       "      <td>720244983</td>\n",
       "      <td>40</td>\n",
       "      <td>M</td>\n",
       "      <td>3</td>\n",
       "      <td>Unknown</td>\n",
       "      <td>Single</td>\n",
       "      <td>$40K - $60K</td>\n",
       "      <td>Blue</td>\n",
       "      <td>28</td>\n",
       "      <td>...</td>\n",
       "      <td>1</td>\n",
       "      <td>3563.0</td>\n",
       "      <td>1707</td>\n",
       "      <td>1856.0</td>\n",
       "      <td>0.506</td>\n",
       "      <td>1482</td>\n",
       "      <td>42</td>\n",
       "      <td>0.312</td>\n",
       "      <td>0.479</td>\n",
       "      <td>1</td>\n",
       "    </tr>\n",
       "    <tr>\n",
       "      <th>8100</th>\n",
       "      <td>8100</td>\n",
       "      <td>827123883</td>\n",
       "      <td>53</td>\n",
       "      <td>M</td>\n",
       "      <td>4</td>\n",
       "      <td>High School</td>\n",
       "      <td>Single</td>\n",
       "      <td>$60K - $80K</td>\n",
       "      <td>Blue</td>\n",
       "      <td>49</td>\n",
       "      <td>...</td>\n",
       "      <td>2</td>\n",
       "      <td>3858.0</td>\n",
       "      <td>0</td>\n",
       "      <td>3858.0</td>\n",
       "      <td>0.670</td>\n",
       "      <td>4472</td>\n",
       "      <td>92</td>\n",
       "      <td>0.614</td>\n",
       "      <td>0.000</td>\n",
       "      <td>1</td>\n",
       "    </tr>\n",
       "  </tbody>\n",
       "</table>\n",
       "<p>8101 rows × 22 columns</p>\n",
       "</div>"
      ],
      "text/plain": [
       "      train_idx  CLIENTNUM  Customer_Age Gender  Dependent_count  \\\n",
       "0             0  713071383            54      F                1   \n",
       "1             1  714246333            58      F                4   \n",
       "2             2  718206783            45      F                4   \n",
       "3             3  721096983            34      F                2   \n",
       "4             4  720028683            49      F                2   \n",
       "...         ...        ...           ...    ...              ...   \n",
       "8096       8096  769053033            44      F                1   \n",
       "8097       8097  714406158            53      F                3   \n",
       "8098       8098  714140133            42      F                4   \n",
       "8099       8099  720244983            40      M                3   \n",
       "8100       8100  827123883            53      M                4   \n",
       "\n",
       "     Education_Level Marital_Status Income_Category Card_Category  \\\n",
       "0            Unknown         Single         Unknown          Blue   \n",
       "1        High School        Married         Unknown          Blue   \n",
       "2            Unknown         Single  Less than $40K          Gold   \n",
       "3           Graduate         Single  Less than $40K          Blue   \n",
       "4        High School        Married     $40K - $60K          Blue   \n",
       "...              ...            ...             ...           ...   \n",
       "8096        Graduate         Single     $40K - $60K          Blue   \n",
       "8097     High School       Divorced         Unknown          Blue   \n",
       "8098        Graduate        Unknown  Less than $40K          Blue   \n",
       "8099         Unknown         Single     $40K - $60K          Blue   \n",
       "8100     High School         Single     $60K - $80K          Blue   \n",
       "\n",
       "      Months_on_book  ...  Contacts_Count_12_mon  Credit_Limit  \\\n",
       "0                 36  ...                      3        3723.0   \n",
       "1                 48  ...                      3        5396.0   \n",
       "2                 36  ...                      3       15987.0   \n",
       "3                 36  ...                      4        3625.0   \n",
       "4                 39  ...                      4        2720.0   \n",
       "...              ...  ...                    ...           ...   \n",
       "8096              38  ...                      5        4142.0   \n",
       "8097              36  ...                      6        7939.0   \n",
       "8098              32  ...                      2        2314.0   \n",
       "8099              28  ...                      1        3563.0   \n",
       "8100              49  ...                      2        3858.0   \n",
       "\n",
       "      Total_Revolving_Bal  Avg_Open_To_Buy  Total_Amt_Chng_Q4_Q1  \\\n",
       "0                    1728           1995.0                 0.595   \n",
       "1                    1803           3593.0                 0.493   \n",
       "2                    1648          14339.0                 0.732   \n",
       "3                    2517           1108.0                 1.158   \n",
       "4                    1926            794.0                 0.602   \n",
       "...                   ...              ...                   ...   \n",
       "8096                 2517           1625.0                 0.809   \n",
       "8097                    0           7939.0                 0.551   \n",
       "8098                 1547            767.0                 0.804   \n",
       "8099                 1707           1856.0                 0.506   \n",
       "8100                    0           3858.0                 0.670   \n",
       "\n",
       "      Total_Trans_Amt  Total_Trans_Ct  Total_Ct_Chng_Q4_Q1  \\\n",
       "0                8554              99                0.678   \n",
       "1                2107              39                0.393   \n",
       "2                1436              36                1.250   \n",
       "3                2616              46                1.300   \n",
       "4                3806              61                0.794   \n",
       "...               ...             ...                  ...   \n",
       "8096             2104              44                0.833   \n",
       "8097             2269              42                0.312   \n",
       "8098             4678              74                1.000   \n",
       "8099             1482              42                0.312   \n",
       "8100             4472              92                0.614   \n",
       "\n",
       "      Avg_Utilization_Ratio  Attrition_Flag  \n",
       "0                     0.464               1  \n",
       "1                     0.334               0  \n",
       "2                     0.103               1  \n",
       "3                     0.694               1  \n",
       "4                     0.708               1  \n",
       "...                     ...             ...  \n",
       "8096                  0.608               0  \n",
       "8097                  0.000               0  \n",
       "8098                  0.669               1  \n",
       "8099                  0.479               1  \n",
       "8100                  0.000               1  \n",
       "\n",
       "[8101 rows x 22 columns]"
      ]
     },
     "execution_count": 43,
     "metadata": {},
     "output_type": "execute_result"
    }
   ],
   "source": [
    "dataset"
   ]
  },
  {
   "cell_type": "code",
   "execution_count": 44,
   "id": "b7e63eab",
   "metadata": {},
   "outputs": [],
   "source": [
    "x = dataset[['CLIENTNUM','Customer_Age','Credit_Limit','Total_Revolving_Bal', 'Total_Trans_Amt', 'Total_Trans_Ct']]"
   ]
  },
  {
   "cell_type": "code",
   "execution_count": 45,
   "id": "1e280834",
   "metadata": {},
   "outputs": [],
   "source": [
    "y = dataset[['Attrition_Flag']]"
   ]
  },
  {
   "cell_type": "code",
   "execution_count": 46,
   "id": "349b8508",
   "metadata": {},
   "outputs": [],
   "source": [
    "x_train, x_test, y_train, y_test = train_test_split(x,y,test_size=0.7, random_state=80)"
   ]
  },
  {
   "cell_type": "code",
   "execution_count": 47,
   "id": "868e5a99",
   "metadata": {},
   "outputs": [],
   "source": [
    "Rf = RandomForestClassifier(n_estimators=200, random_state=80)"
   ]
  },
  {
   "cell_type": "code",
   "execution_count": 48,
   "id": "f01ba0b9",
   "metadata": {},
   "outputs": [
    {
     "name": "stderr",
     "output_type": "stream",
     "text": [
      "C:\\Users\\kanik\\AppData\\Local\\Temp\\ipykernel_22036\\56334316.py:1: DataConversionWarning: A column-vector y was passed when a 1d array was expected. Please change the shape of y to (n_samples,), for example using ravel().\n",
      "  Rf.fit(x_train , y_train)\n"
     ]
    },
    {
     "data": {
      "text/plain": [
       "RandomForestClassifier(n_estimators=200, random_state=80)"
      ]
     },
     "execution_count": 48,
     "metadata": {},
     "output_type": "execute_result"
    }
   ],
   "source": [
    "Rf.fit(x_train , y_train)"
   ]
  },
  {
   "cell_type": "code",
   "execution_count": 56,
   "id": "9335df90",
   "metadata": {},
   "outputs": [
    {
     "data": {
      "text/plain": [
       "array([1, 0, 1, ..., 1, 1, 1], dtype=int64)"
      ]
     },
     "execution_count": 56,
     "metadata": {},
     "output_type": "execute_result"
    }
   ],
   "source": [
    "predict = Rf.predict(x_test)\n",
    "predict"
   ]
  },
  {
   "cell_type": "code",
   "execution_count": 57,
   "id": "0d038155",
   "metadata": {},
   "outputs": [
    {
     "data": {
      "text/plain": [
       "0.9315817316169988"
      ]
     },
     "execution_count": 57,
     "metadata": {},
     "output_type": "execute_result"
    }
   ],
   "source": [
    "accuracy = accuracy_score(y_test, predict)\n",
    "accuracy"
   ]
  },
  {
   "cell_type": "code",
   "execution_count": 59,
   "id": "6a03fb92",
   "metadata": {},
   "outputs": [
    {
     "data": {
      "text/plain": [
       "'              precision    recall  f1-score   support\\n\\n           0       0.82      0.72      0.77       892\\n           1       0.95      0.97      0.96      4779\\n\\n    accuracy                           0.93      5671\\n   macro avg       0.89      0.84      0.86      5671\\nweighted avg       0.93      0.93      0.93      5671\\n'"
      ]
     },
     "execution_count": 59,
     "metadata": {},
     "output_type": "execute_result"
    }
   ],
   "source": [
    "result = classification_report(y_test, predict)\n",
    "result"
   ]
  },
  {
   "cell_type": "code",
   "execution_count": null,
   "id": "5157fefe",
   "metadata": {},
   "outputs": [],
   "source": []
  }
 ],
 "metadata": {
  "kernelspec": {
   "display_name": "Python 3 (ipykernel)",
   "language": "python",
   "name": "python3"
  },
  "language_info": {
   "codemirror_mode": {
    "name": "ipython",
    "version": 3
   },
   "file_extension": ".py",
   "mimetype": "text/x-python",
   "name": "python",
   "nbconvert_exporter": "python",
   "pygments_lexer": "ipython3",
   "version": "3.9.13"
  }
 },
 "nbformat": 4,
 "nbformat_minor": 5
}
